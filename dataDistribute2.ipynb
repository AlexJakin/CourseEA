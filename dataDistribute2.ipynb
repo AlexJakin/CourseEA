{
 "cells": [
  {
   "cell_type": "code",
   "execution_count": 1,
   "metadata": {},
   "outputs": [],
   "source": [
    "import os"
   ]
  },
  {
   "cell_type": "code",
   "execution_count": 2,
   "metadata": {},
   "outputs": [],
   "source": [
    "def get_files(file_dir):\n",
    "    file_list = []\n",
    "    for root, dirs, files in os.walk(file_dir):\n",
    "        for file in files:\n",
    "            if os.path.splitext(file)[1] == '.csv':\n",
    "                file_list.append(file_dir+file)\n",
    "    return file_list"
   ]
  },
  {
   "cell_type": "code",
   "execution_count": 3,
   "metadata": {},
   "outputs": [],
   "source": [
    "file_dir = \"dataset2/origin/\"\n",
    "file_list = get_files(file_dir)"
   ]
  },
  {
   "cell_type": "code",
   "execution_count": 4,
   "metadata": {
    "scrolled": true
   },
   "outputs": [
    {
     "data": {
      "text/plain": [
       "['dataset2/origin/Android自定义任意层级树形控件.csv',\n",
       " 'dataset2/origin/APP性能优化之内存优化.csv',\n",
       " 'dataset2/origin/Javascript实现二叉树算法.csv',\n",
       " 'dataset2/origin/Java从编程语言到编程思想.csv',\n",
       " 'dataset2/origin/JS实现人机大战之五子棋（AI篇）.csv',\n",
       " 'dataset2/origin/Linux C语言结构体.csv',\n",
       " 'dataset2/origin/MongoDB复制集—复制集的同步机制.csv',\n",
       " 'dataset2/origin/PHP+Mysql+Ajax实现分页.csv',\n",
       " 'dataset2/origin/Python 全栈案例初体验.csv',\n",
       " 'dataset2/origin/python必学模块-collections.csv',\n",
       " 'dataset2/origin/Python数据分析-基础技术篇.csv',\n",
       " 'dataset2/origin/Redis入门.csv',\n",
       " 'dataset2/origin/redis的入门与应用.csv',\n",
       " 'dataset2/origin/R语言入门与进阶.csv',\n",
       " 'dataset2/origin/R语言基础.csv',\n",
       " 'dataset2/origin/从JS到TS开发数独游戏（JS版）.csv',\n",
       " 'dataset2/origin/数据结构探险—栈篇.csv',\n",
       " 'dataset2/origin/数据结构探险—队列篇.csv',\n",
       " 'dataset2/origin/数据结构探险之图篇.csv',\n",
       " 'dataset2/origin/数据结构探险之树篇.csv',\n",
       " 'dataset2/origin/数据结构探险之线性表篇.csv',\n",
       " 'dataset2/origin/站在巨人的肩膀上写代码—SPL.csv']"
      ]
     },
     "execution_count": 4,
     "metadata": {},
     "output_type": "execute_result"
    }
   ],
   "source": [
    "file_list"
   ]
  },
  {
   "cell_type": "code",
   "execution_count": 5,
   "metadata": {},
   "outputs": [],
   "source": [
    "import csv"
   ]
  },
  {
   "cell_type": "code",
   "execution_count": 6,
   "metadata": {},
   "outputs": [],
   "source": [
    "csv_reader = csv.reader(open('dataset2/origin/20考研·数据结构全程班.csv', encoding='utf-8'))"
   ]
  },
  {
   "cell_type": "code",
   "execution_count": 7,
   "metadata": {},
   "outputs": [],
   "source": [
    "comments_list = []  #存取全部评论\n",
    "for row in csv_reader:\n",
    "    comments_list.append(row)"
   ]
  },
  {
   "cell_type": "code",
   "execution_count": 8,
   "metadata": {},
   "outputs": [],
   "source": [
    "import numpy as np\n",
    "comments_list = np.array(comments_list)"
   ]
  },
  {
   "cell_type": "code",
   "execution_count": 9,
   "metadata": {},
   "outputs": [
    {
     "data": {
      "text/plain": [
       "(25, 3)"
      ]
     },
     "execution_count": 9,
     "metadata": {},
     "output_type": "execute_result"
    }
   ],
   "source": [
    "comments_list.shape"
   ]
  },
  {
   "cell_type": "markdown",
   "metadata": {},
   "source": [
    "## 数据处理"
   ]
  },
  {
   "cell_type": "code",
   "execution_count": 10,
   "metadata": {},
   "outputs": [],
   "source": [
    "comments_list = []  #存取全部评论\n",
    "for file_path in file_list:\n",
    "    csv_reader = csv.reader(open(file_path, encoding='utf-8'))\n",
    "    for row in csv_reader:\n",
    "        comments_list.append(row)"
   ]
  },
  {
   "cell_type": "code",
   "execution_count": 11,
   "metadata": {},
   "outputs": [
    {
     "data": {
      "text/plain": [
       "2703"
      ]
     },
     "execution_count": 11,
     "metadata": {},
     "output_type": "execute_result"
    }
   ],
   "source": [
    "len(comments_list)"
   ]
  },
  {
   "cell_type": "markdown",
   "metadata": {},
   "source": [
    "该项目有6个人 所以要分配数据集到6个人身上"
   ]
  },
  {
   "cell_type": "code",
   "execution_count": 12,
   "metadata": {},
   "outputs": [],
   "source": [
    "people = 6\n",
    "each_comments = int(len(comments_list) / people)\n",
    "remain_comments = len(comments_list)  % people"
   ]
  },
  {
   "cell_type": "code",
   "execution_count": 14,
   "metadata": {},
   "outputs": [],
   "source": [
    "file_dir = \"dataset/\"\n",
    "for p in range(1, people+1):\n",
    "    csv_file = open(file_dir+\"comment_data{}.csv\".format(p), \"w\", newline='', encoding='utf-8')\n",
    "    csv_writer = csv.writer(csv_file)\n",
    "    for row in comments_list[(p-1)*each_comments:p*each_comments]:\n",
    "        csv_writer.writerow(row)\n",
    "    csv_file.close()"
   ]
  },
  {
   "cell_type": "code",
   "execution_count": 15,
   "metadata": {},
   "outputs": [],
   "source": [
    "csv_file = open(file_dir+\"comment_data{}.csv\".format(7), \"w\", newline='', encoding='utf-8')\n",
    "csv_writer = csv.writer(csv_file)\n",
    "for row in comments_list[6*each_comments:]:\n",
    "    csv_writer.writerow(row)\n",
    "csv_file.close()"
   ]
  },
  {
   "cell_type": "code",
   "execution_count": null,
   "metadata": {},
   "outputs": [],
   "source": []
  }
 ],
 "metadata": {
  "kernelspec": {
   "display_name": "Python 3",
   "language": "python",
   "name": "python3"
  },
  "language_info": {
   "codemirror_mode": {
    "name": "ipython",
    "version": 3
   },
   "file_extension": ".py",
   "mimetype": "text/x-python",
   "name": "python",
   "nbconvert_exporter": "python",
   "pygments_lexer": "ipython3",
   "version": "3.7.3"
  }
 },
 "nbformat": 4,
 "nbformat_minor": 2
}

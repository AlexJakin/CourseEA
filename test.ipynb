{
 "cells": [
  {
   "cell_type": "code",
   "execution_count": 1,
   "metadata": {},
   "outputs": [],
   "source": [
    "from CourseEA.CPreprocess import File\n",
    "from CourseEA.CPreprocess import Data\n",
    "from CourseEA.DataPreProcess import DataProcess"
   ]
  },
  {
   "cell_type": "code",
   "execution_count": 2,
   "metadata": {},
   "outputs": [],
   "source": [
    "file = File(\"dataset/result/\")\n",
    "files_dir_list = file.get_files_dir_list()\n",
    "files_dir_list\n",
    "files_name_list = file.get_files_name_list()"
   ]
  },
  {
   "cell_type": "code",
   "execution_count": 3,
   "metadata": {},
   "outputs": [],
   "source": [
    "dt = Data(files_dir_list)\n",
    "dataset = dt.get_dataset()"
   ]
  },
  {
   "cell_type": "code",
   "execution_count": 4,
   "metadata": {},
   "outputs": [
    {
     "name": "stdout",
     "output_type": "stream",
     "text": [
      "预计需要几分钟的加载时间。。。\n"
     ]
    },
    {
     "name": "stderr",
     "output_type": "stream",
     "text": [
      "WARNING: Logging before flag parsing goes to stderr.\n",
      "W1020 12:27:21.073586 13096 utils_any2vec.py:354] duplicate word '--------------------------------------------------------------------------------------------------' in embeddings/sgns.zhihu.bigram, ignoring all but first\n",
      "W1020 12:27:24.328950 13096 utils_any2vec.py:354] duplicate word '--------------------------------------------------------------------------------------------------' in embeddings/sgns.zhihu.bigram, ignoring all but first\n",
      "W1020 12:27:30.300485 13096 utils_any2vec.py:354] duplicate word '--------------------------------------------------------------------------------------------------' in embeddings/sgns.zhihu.bigram, ignoring all but first\n",
      "W1020 12:27:34.617738 13096 utils_any2vec.py:354] duplicate word '--------------------------------------------------------------------------------------------------' in embeddings/sgns.zhihu.bigram, ignoring all but first\n",
      "W1020 12:27:36.220419 13096 utils_any2vec.py:354] duplicate word '--------------------------------------------------------------------------------------------------' in embeddings/sgns.zhihu.bigram, ignoring all but first\n",
      "W1020 12:27:36.619755 13096 utils_any2vec.py:354] duplicate word '--------------------------------------------------------------------------------------------------' in embeddings/sgns.zhihu.bigram, ignoring all but first\n",
      "W1020 12:27:37.046732 13096 utils_any2vec.py:354] duplicate word '--------------------------------------------------------------------------------------------------' in embeddings/sgns.zhihu.bigram, ignoring all but first\n",
      "W1020 12:27:37.080063 13096 utils_any2vec.py:354] duplicate word '--------------------------------------------------------------------------------------------------' in embeddings/sgns.zhihu.bigram, ignoring all but first\n",
      "W1020 12:27:38.271046 13096 utils_any2vec.py:354] duplicate word '--------------------------------------------------------------------------------------------------' in embeddings/sgns.zhihu.bigram, ignoring all but first\n",
      "W1020 12:27:38.405683 13096 utils_any2vec.py:354] duplicate word '--------------------------------------------------------------------------------------------------' in embeddings/sgns.zhihu.bigram, ignoring all but first\n",
      "W1020 12:27:38.933163 13096 utils_any2vec.py:354] duplicate word '--------------------------------------------------------------------------------------------------' in embeddings/sgns.zhihu.bigram, ignoring all but first\n",
      "W1020 12:27:39.081731 13096 utils_any2vec.py:354] duplicate word '--------------------------------------------------------------------------------------------------' in embeddings/sgns.zhihu.bigram, ignoring all but first\n",
      "W1020 12:27:39.096760 13096 utils_any2vec.py:354] duplicate word '--------------------------------------------------------------------------------------------------' in embeddings/sgns.zhihu.bigram, ignoring all but first\n",
      "W1020 12:27:39.767410 13096 utils_any2vec.py:354] duplicate word '--------------------------------------------------------------------------------------------------' in embeddings/sgns.zhihu.bigram, ignoring all but first\n",
      "W1020 12:27:40.071190 13096 utils_any2vec.py:354] duplicate word '--------------------------------------------------------------------------------------------------' in embeddings/sgns.zhihu.bigram, ignoring all but first\n",
      "W1020 12:27:40.078130 13096 utils_any2vec.py:354] duplicate word '--------------------------------------------------------------------------------------------------' in embeddings/sgns.zhihu.bigram, ignoring all but first\n",
      "W1020 12:27:40.140500 13096 utils_any2vec.py:354] duplicate word '--------------------------------------------------------------------------------------------------' in embeddings/sgns.zhihu.bigram, ignoring all but first\n",
      "W1020 12:27:40.183423 13096 utils_any2vec.py:354] duplicate word '--------------------------------------------------------------------------------------------------' in embeddings/sgns.zhihu.bigram, ignoring all but first\n",
      "W1020 12:27:40.225804 13096 utils_any2vec.py:354] duplicate word '--------------------------------------------------------------------------------------------------' in embeddings/sgns.zhihu.bigram, ignoring all but first\n",
      "W1020 12:27:40.322545 13096 utils_any2vec.py:354] duplicate word '--------------------------------------------------------------------------------------------------' in embeddings/sgns.zhihu.bigram, ignoring all but first\n",
      "W1020 12:27:40.342531 13096 utils_any2vec.py:354] duplicate word '--------------------------------------------------------------------------------------------------' in embeddings/sgns.zhihu.bigram, ignoring all but first\n",
      "W1020 12:27:40.345487 13096 utils_any2vec.py:354] duplicate word '--------------------------------------------------------------------------------------------------' in embeddings/sgns.zhihu.bigram, ignoring all but first\n",
      "W1020 12:27:40.366455 13096 utils_any2vec.py:354] duplicate word '--------------------------------------------------------------------------------------------------' in embeddings/sgns.zhihu.bigram, ignoring all but first\n",
      "W1020 12:27:40.413342 13096 utils_any2vec.py:354] duplicate word '--------------------------------------------------------------------------------------------------' in embeddings/sgns.zhihu.bigram, ignoring all but first\n",
      "W1020 12:27:40.425305 13096 utils_any2vec.py:354] duplicate word '--------------------------------------------------------------------------------------------------' in embeddings/sgns.zhihu.bigram, ignoring all but first\n",
      "W1020 12:27:40.476171 13096 utils_any2vec.py:354] duplicate word '--------------------------------------------------------------------------------------------------' in embeddings/sgns.zhihu.bigram, ignoring all but first\n",
      "W1020 12:27:40.509083 13096 utils_any2vec.py:354] duplicate word '--------------------------------------------------------------------------------------------------' in embeddings/sgns.zhihu.bigram, ignoring all but first\n",
      "W1020 12:27:40.514075 13096 utils_any2vec.py:354] duplicate word '--------------------------------------------------------------------------------------------------' in embeddings/sgns.zhihu.bigram, ignoring all but first\n",
      "W1020 12:27:40.536974 13096 utils_any2vec.py:354] duplicate word '--------------------------------------------------------------------------------------------------' in embeddings/sgns.zhihu.bigram, ignoring all but first\n",
      "W1020 12:27:40.545948 13096 utils_any2vec.py:354] duplicate word '--------------------------------------------------------------------------------------------------' in embeddings/sgns.zhihu.bigram, ignoring all but first\n",
      "W1020 12:27:40.578860 13096 utils_any2vec.py:354] duplicate word '--------------------------------------------------------------------------------------------------' in embeddings/sgns.zhihu.bigram, ignoring all but first\n",
      "W1020 12:27:40.597812 13096 utils_any2vec.py:354] duplicate word '--------------------------------------------------------------------------------------------------' in embeddings/sgns.zhihu.bigram, ignoring all but first\n",
      "W1020 12:27:40.603805 13096 utils_any2vec.py:354] duplicate word '--------------------------------------------------------------------------------------------------' in embeddings/sgns.zhihu.bigram, ignoring all but first\n",
      "W1020 12:27:40.606786 13096 utils_any2vec.py:354] duplicate word '--------------------------------------------------------------------------------------------------' in embeddings/sgns.zhihu.bigram, ignoring all but first\n",
      "W1020 12:27:40.613766 13096 utils_any2vec.py:354] duplicate word '--------------------------------------------------------------------------------------------------' in embeddings/sgns.zhihu.bigram, ignoring all but first\n",
      "W1020 12:27:40.616759 13096 utils_any2vec.py:354] duplicate word '--------------------------------------------------------------------------------------------------' in embeddings/sgns.zhihu.bigram, ignoring all but first\n",
      "W1020 12:27:40.617756 13096 utils_any2vec.py:354] duplicate word '--------------------------------------------------------------------------------------------------' in embeddings/sgns.zhihu.bigram, ignoring all but first\n"
     ]
    },
    {
     "name": "stderr",
     "output_type": "stream",
     "text": [
      "W1020 12:27:40.621745 13096 utils_any2vec.py:354] duplicate word '--------------------------------------------------------------------------------------------------' in embeddings/sgns.zhihu.bigram, ignoring all but first\n",
      "W1020 12:27:40.628730 13096 utils_any2vec.py:354] duplicate word '..................................................................................................' in embeddings/sgns.zhihu.bigram, ignoring all but first\n",
      "W1020 12:27:40.631721 13096 utils_any2vec.py:354] duplicate word '--------------------------------------------------------------------------------------------------' in embeddings/sgns.zhihu.bigram, ignoring all but first\n",
      "W1020 12:27:40.639697 13096 utils_any2vec.py:354] duplicate word '..................................................................................................' in embeddings/sgns.zhihu.bigram, ignoring all but first\n",
      "W1020 12:27:40.640694 13096 utils_any2vec.py:354] duplicate word '--------------------------------------------------------------------------------------------------' in embeddings/sgns.zhihu.bigram, ignoring all but first\n",
      "W1020 12:27:40.649670 13096 utils_any2vec.py:354] duplicate word '--------------------------------------------------------------------------------------------------' in embeddings/sgns.zhihu.bigram, ignoring all but first\n",
      "W1020 12:27:40.651671 13096 utils_any2vec.py:354] duplicate word '--------------------------------------------------------------------------------------------------' in embeddings/sgns.zhihu.bigram, ignoring all but first\n",
      "W1020 12:27:40.658649 13096 utils_any2vec.py:354] duplicate word '--------------------------------------------------------------------------------------------------' in embeddings/sgns.zhihu.bigram, ignoring all but first\n",
      "W1020 12:27:40.660642 13096 utils_any2vec.py:354] duplicate word '--------------------------------------------------------------------------------------------------' in embeddings/sgns.zhihu.bigram, ignoring all but first\n",
      "W1020 12:27:40.666628 13096 utils_any2vec.py:354] duplicate word '--------------------------------------------------------------------------------------------------' in embeddings/sgns.zhihu.bigram, ignoring all but first\n",
      "W1020 12:27:40.675601 13096 utils_any2vec.py:354] duplicate word '--------------------------------------------------------------------------------------------------' in embeddings/sgns.zhihu.bigram, ignoring all but first\n",
      "W1020 12:27:40.677597 13096 utils_any2vec.py:354] duplicate word '..................................................................................................' in embeddings/sgns.zhihu.bigram, ignoring all but first\n",
      "W1020 12:27:40.679591 13096 utils_any2vec.py:354] duplicate word '..................................................................................................' in embeddings/sgns.zhihu.bigram, ignoring all but first\n",
      "W1020 12:27:40.687573 13096 utils_any2vec.py:354] duplicate word '--------------------------------------------------------------------------------------------------' in embeddings/sgns.zhihu.bigram, ignoring all but first\n",
      "W1020 12:27:40.691559 13096 utils_any2vec.py:354] duplicate word '--------------------------------------------------------------------------------------------------' in embeddings/sgns.zhihu.bigram, ignoring all but first\n",
      "W1020 12:27:40.694551 13096 utils_any2vec.py:354] duplicate word '..................................................................................................' in embeddings/sgns.zhihu.bigram, ignoring all but first\n"
     ]
    },
    {
     "name": "stdout",
     "output_type": "stream",
     "text": [
      "加载完成\n"
     ]
    }
   ],
   "source": [
    "dataProcess = DataProcess(dataset)"
   ]
  },
  {
   "cell_type": "code",
   "execution_count": 5,
   "metadata": {},
   "outputs": [],
   "source": [
    "cn_model = dataProcess.get_cn_model()\n",
    "train_texts_origin, train_score, train_target = dataProcess.process()"
   ]
  },
  {
   "cell_type": "code",
   "execution_count": 6,
   "metadata": {},
   "outputs": [
    {
     "name": "stderr",
     "output_type": "stream",
     "text": [
      "Building prefix dict from the default dictionary ...\n",
      "I1020 12:27:40.721481 13096 __init__.py:111] Building prefix dict from the default dictionary ...\n",
      "Loading model from cache C:\\Users\\MILI\\AppData\\Local\\Temp\\jieba.cache\n",
      "I1020 12:27:40.725480 13096 __init__.py:131] Loading model from cache C:\\Users\\MILI\\AppData\\Local\\Temp\\jieba.cache\n",
      "Loading model cost 0.909 seconds.\n",
      "I1020 12:27:41.633193 13096 __init__.py:163] Loading model cost 0.909 seconds.\n",
      "Prefix dict has been built succesfully.\n",
      "I1020 12:27:41.635211 13096 __init__.py:164] Prefix dict has been built succesfully.\n"
     ]
    }
   ],
   "source": [
    "train_tokens, train_score, train_target = dataProcess.dataset_to_train_token(train_texts_origin, train_score, train_target)"
   ]
  },
  {
   "cell_type": "code",
   "execution_count": 7,
   "metadata": {},
   "outputs": [
    {
     "data": {
      "image/png": "[encoded data removed]",
      "text/plain": [
       "<Figure size 432x288 with 1 Axes>"
      ]
     },
     "metadata": {
      "needs_background": "light"
     },
     "output_type": "display_data"
    }
   ],
   "source": [
    "num_tokens = dataProcess.get_tokens_num_and_distribution(train_tokens)"
   ]
  },
  {
   "cell_type": "markdown",
   "metadata": {},
   "source": [
    "## 获取填充后的训练数据和词嵌入矩阵（在放入keras训练的时候用到）"
   ]
  },
  {
   "cell_type": "code",
   "execution_count": 8,
   "metadata": {},
   "outputs": [
    {
     "name": "stdout",
     "output_type": "stream",
     "text": [
      "使用正太分布3δ法则可覆盖 0.9859154929577465\n"
     ]
    }
   ],
   "source": [
    "train_pad = dataProcess.tokens_process(train_tokens, num_tokens)"
   ]
  },
  {
   "cell_type": "code",
   "execution_count": 9,
   "metadata": {},
   "outputs": [],
   "source": [
    "embedding_matrix = dataProcess.embedding_matrix"
   ]
  },
  {
   "cell_type": "code",
   "execution_count": 10,
   "metadata": {},
   "outputs": [
    {
     "data": {
      "text/plain": [
       "(2485, 54)"
      ]
     },
     "execution_count": 10,
     "metadata": {},
     "output_type": "execute_result"
    }
   ],
   "source": [
    "import numpy as np\n",
    "train_target = np.array(train_target)\n",
    "train_score = np.array(train_score)\n",
    "train_pad.shape"
   ]
  },
  {
   "cell_type": "code",
   "execution_count": 11,
   "metadata": {},
   "outputs": [
    {
     "data": {
      "text/plain": [
       "(2485,)"
      ]
     },
     "execution_count": 11,
     "metadata": {},
     "output_type": "execute_result"
    }
   ],
   "source": [
    "train_target.shape"
   ]
  },
  {
   "cell_type": "code",
   "execution_count": 12,
   "metadata": {},
   "outputs": [
    {
     "data": {
      "text/plain": [
       "(2485,)"
      ]
     },
     "execution_count": 12,
     "metadata": {},
     "output_type": "execute_result"
    }
   ],
   "source": [
    "train_score.shape"
   ]
  },
  {
   "cell_type": "code",
   "execution_count": 14,
   "metadata": {},
   "outputs": [
    {
     "data": {
      "text/plain": [
       "array([5., 4., 1., ..., 5., 5., 5.])"
      ]
     },
     "execution_count": 14,
     "metadata": {},
     "output_type": "execute_result"
    }
   ],
   "source": [
    "train_score"
   ]
  },
  {
   "cell_type": "markdown",
   "metadata": {},
   "source": [
    "## 进行训练和测试样本的分割"
   ]
  },
  {
   "cell_type": "code",
   "execution_count": 15,
   "metadata": {},
   "outputs": [],
   "source": [
    "from sklearn.model_selection import train_test_split"
   ]
  },
  {
   "cell_type": "code",
   "execution_count": 16,
   "metadata": {},
   "outputs": [],
   "source": [
    "X_train, X_test, y_train, y_test = train_test_split(train_pad,\n",
    "                                                    train_target,\n",
    "                                                    test_size=0.1,\n",
    "                                                    random_state=12)"
   ]
  },
  {
   "cell_type": "code",
   "execution_count": 18,
   "metadata": {},
   "outputs": [
    {
     "name": "stdout",
     "output_type": "stream",
     "text": [
      "训练数据集数量： (2236, 54) (2236,)\n",
      "测试数据集数量： (249, 54) (249,)\n"
     ]
    }
   ],
   "source": [
    "print(\"训练数据集数量：\",X_train.shape, y_train.shape)\n",
    "print(\"测试数据集数量：\",X_test.shape, y_test.shape)"
   ]
  },
  {
   "cell_type": "markdown",
   "metadata": {},
   "source": [
    "## 查看训练样本，确认无误"
   ]
  },
  {
   "cell_type": "code",
   "execution_count": 22,
   "metadata": {},
   "outputs": [
    {
     "name": "stdout",
     "output_type": "stream",
     "text": [
      "                                      为什么不给出主函数的调用啊就给函数这些东西哪本书没有\n",
      "class:  0\n"
     ]
    }
   ],
   "source": [
    "print(dataProcess.reverse_tokens(X_train[1]))\n",
    "print('class: ',y_train[1])"
   ]
  },
  {
   "cell_type": "code",
   "execution_count": null,
   "metadata": {},
   "outputs": [],
   "source": []
  }
 ],
 "metadata": {
  "kernelspec": {
   "display_name": "Python 3",
   "language": "python",
   "name": "python3"
  },
  "language_info": {
   "codemirror_mode": {
    "name": "ipython",
    "version": 3
   },
   "file_extension": ".py",
   "mimetype": "text/x-python",
   "name": "python",
   "nbconvert_exporter": "python",
   "pygments_lexer": "ipython3",
   "version": "3.7.3"
  }
 },
 "nbformat": 4,
 "nbformat_minor": 2
}

{
 "cells": [
  {
   "cell_type": "code",
   "execution_count": 1,
   "metadata": {},
   "outputs": [],
   "source": [
    "from CourseEA.CPreprocess import File\n",
    "from CourseEA.CPreprocess import Data\n",
    "from CourseEA.DataPreProcess import DataProcess"
   ]
  },
  {
   "cell_type": "code",
   "execution_count": 2,
   "metadata": {},
   "outputs": [],
   "source": [
    "file = File(\"dataset/result/\")\n",
    "files_dir_list = file.get_files_dir_list()\n",
    "files_dir_list\n",
    "files_name_list = file.get_files_name_list()"
   ]
  },
  {
   "cell_type": "code",
   "execution_count": 3,
   "metadata": {},
   "outputs": [],
   "source": [
    "dt = Data(files_dir_list)\n",
    "dataset = dt.get_dataset()"
   ]
  },
  {
   "cell_type": "code",
   "execution_count": 4,
   "metadata": {},
   "outputs": [
    {
     "name": "stdout",
     "output_type": "stream",
     "text": [
      "预计需要几分钟的加载时间。。。\n"
     ]
    },
    {
     "name": "stderr",
     "output_type": "stream",
     "text": [
      "WARNING: Logging before flag parsing goes to stderr.\n",
      "W1026 14:05:36.675043 12660 utils_any2vec.py:354] duplicate word '--------------------------------------------------------------------------------------------------' in embeddings/sgns.zhihu.bigram, ignoring all but first\n",
      "W1026 14:05:39.487522 12660 utils_any2vec.py:354] duplicate word '--------------------------------------------------------------------------------------------------' in embeddings/sgns.zhihu.bigram, ignoring all but first\n",
      "W1026 14:05:44.850225 12660 utils_any2vec.py:354] duplicate word '--------------------------------------------------------------------------------------------------' in embeddings/sgns.zhihu.bigram, ignoring all but first\n",
      "W1026 14:05:48.804644 12660 utils_any2vec.py:354] duplicate word '--------------------------------------------------------------------------------------------------' in embeddings/sgns.zhihu.bigram, ignoring all but first\n",
      "W1026 14:05:50.324577 12660 utils_any2vec.py:354] duplicate word '--------------------------------------------------------------------------------------------------' in embeddings/sgns.zhihu.bigram, ignoring all but first\n",
      "W1026 14:05:50.680591 12660 utils_any2vec.py:354] duplicate word '--------------------------------------------------------------------------------------------------' in embeddings/sgns.zhihu.bigram, ignoring all but first\n",
      "W1026 14:05:51.071579 12660 utils_any2vec.py:354] duplicate word '--------------------------------------------------------------------------------------------------' in embeddings/sgns.zhihu.bigram, ignoring all but first\n",
      "W1026 14:05:51.101503 12660 utils_any2vec.py:354] duplicate word '--------------------------------------------------------------------------------------------------' in embeddings/sgns.zhihu.bigram, ignoring all but first\n",
      "W1026 14:05:52.132745 12660 utils_any2vec.py:354] duplicate word '--------------------------------------------------------------------------------------------------' in embeddings/sgns.zhihu.bigram, ignoring all but first\n",
      "W1026 14:05:52.257416 12660 utils_any2vec.py:354] duplicate word '--------------------------------------------------------------------------------------------------' in embeddings/sgns.zhihu.bigram, ignoring all but first\n",
      "W1026 14:05:52.758071 12660 utils_any2vec.py:354] duplicate word '--------------------------------------------------------------------------------------------------' in embeddings/sgns.zhihu.bigram, ignoring all but first\n",
      "W1026 14:05:52.895709 12660 utils_any2vec.py:354] duplicate word '--------------------------------------------------------------------------------------------------' in embeddings/sgns.zhihu.bigram, ignoring all but first\n",
      "W1026 14:05:52.906679 12660 utils_any2vec.py:354] duplicate word '--------------------------------------------------------------------------------------------------' in embeddings/sgns.zhihu.bigram, ignoring all but first\n",
      "W1026 14:05:53.488083 12660 utils_any2vec.py:354] duplicate word '--------------------------------------------------------------------------------------------------' in embeddings/sgns.zhihu.bigram, ignoring all but first\n",
      "W1026 14:05:53.801288 12660 utils_any2vec.py:354] duplicate word '--------------------------------------------------------------------------------------------------' in embeddings/sgns.zhihu.bigram, ignoring all but first\n",
      "W1026 14:05:53.808226 12660 utils_any2vec.py:354] duplicate word '--------------------------------------------------------------------------------------------------' in embeddings/sgns.zhihu.bigram, ignoring all but first\n",
      "W1026 14:05:53.867104 12660 utils_any2vec.py:354] duplicate word '--------------------------------------------------------------------------------------------------' in embeddings/sgns.zhihu.bigram, ignoring all but first\n",
      "W1026 14:05:53.908001 12660 utils_any2vec.py:354] duplicate word '--------------------------------------------------------------------------------------------------' in embeddings/sgns.zhihu.bigram, ignoring all but first\n",
      "W1026 14:05:53.946890 12660 utils_any2vec.py:354] duplicate word '--------------------------------------------------------------------------------------------------' in embeddings/sgns.zhihu.bigram, ignoring all but first\n",
      "W1026 14:05:54.039607 12660 utils_any2vec.py:354] duplicate word '--------------------------------------------------------------------------------------------------' in embeddings/sgns.zhihu.bigram, ignoring all but first\n",
      "W1026 14:05:54.058557 12660 utils_any2vec.py:354] duplicate word '--------------------------------------------------------------------------------------------------' in embeddings/sgns.zhihu.bigram, ignoring all but first\n",
      "W1026 14:05:54.062547 12660 utils_any2vec.py:354] duplicate word '--------------------------------------------------------------------------------------------------' in embeddings/sgns.zhihu.bigram, ignoring all but first\n",
      "W1026 14:05:54.082494 12660 utils_any2vec.py:354] duplicate word '--------------------------------------------------------------------------------------------------' in embeddings/sgns.zhihu.bigram, ignoring all but first\n",
      "W1026 14:05:54.123383 12660 utils_any2vec.py:354] duplicate word '--------------------------------------------------------------------------------------------------' in embeddings/sgns.zhihu.bigram, ignoring all but first\n",
      "W1026 14:05:54.134354 12660 utils_any2vec.py:354] duplicate word '--------------------------------------------------------------------------------------------------' in embeddings/sgns.zhihu.bigram, ignoring all but first\n",
      "W1026 14:05:54.180231 12660 utils_any2vec.py:354] duplicate word '--------------------------------------------------------------------------------------------------' in embeddings/sgns.zhihu.bigram, ignoring all but first\n",
      "W1026 14:05:54.212173 12660 utils_any2vec.py:354] duplicate word '--------------------------------------------------------------------------------------------------' in embeddings/sgns.zhihu.bigram, ignoring all but first\n",
      "W1026 14:05:54.216163 12660 utils_any2vec.py:354] duplicate word '--------------------------------------------------------------------------------------------------' in embeddings/sgns.zhihu.bigram, ignoring all but first\n",
      "W1026 14:05:54.240100 12660 utils_any2vec.py:354] duplicate word '--------------------------------------------------------------------------------------------------' in embeddings/sgns.zhihu.bigram, ignoring all but first\n",
      "W1026 14:05:54.250072 12660 utils_any2vec.py:354] duplicate word '--------------------------------------------------------------------------------------------------' in embeddings/sgns.zhihu.bigram, ignoring all but first\n",
      "W1026 14:05:54.287971 12660 utils_any2vec.py:354] duplicate word '--------------------------------------------------------------------------------------------------' in embeddings/sgns.zhihu.bigram, ignoring all but first\n",
      "W1026 14:05:54.305925 12660 utils_any2vec.py:354] duplicate word '--------------------------------------------------------------------------------------------------' in embeddings/sgns.zhihu.bigram, ignoring all but first\n",
      "W1026 14:05:54.312905 12660 utils_any2vec.py:354] duplicate word '--------------------------------------------------------------------------------------------------' in embeddings/sgns.zhihu.bigram, ignoring all but first\n",
      "W1026 14:05:54.314899 12660 utils_any2vec.py:354] duplicate word '--------------------------------------------------------------------------------------------------' in embeddings/sgns.zhihu.bigram, ignoring all but first\n",
      "W1026 14:05:54.319885 12660 utils_any2vec.py:354] duplicate word '--------------------------------------------------------------------------------------------------' in embeddings/sgns.zhihu.bigram, ignoring all but first\n",
      "W1026 14:05:54.322878 12660 utils_any2vec.py:354] duplicate word '--------------------------------------------------------------------------------------------------' in embeddings/sgns.zhihu.bigram, ignoring all but first\n",
      "W1026 14:05:54.323875 12660 utils_any2vec.py:354] duplicate word '--------------------------------------------------------------------------------------------------' in embeddings/sgns.zhihu.bigram, ignoring all but first\n"
     ]
    },
    {
     "name": "stderr",
     "output_type": "stream",
     "text": [
      "W1026 14:05:54.327865 12660 utils_any2vec.py:354] duplicate word '--------------------------------------------------------------------------------------------------' in embeddings/sgns.zhihu.bigram, ignoring all but first\n",
      "W1026 14:05:54.334851 12660 utils_any2vec.py:354] duplicate word '..................................................................................................' in embeddings/sgns.zhihu.bigram, ignoring all but first\n",
      "W1026 14:05:54.337839 12660 utils_any2vec.py:354] duplicate word '--------------------------------------------------------------------------------------------------' in embeddings/sgns.zhihu.bigram, ignoring all but first\n",
      "W1026 14:05:54.344818 12660 utils_any2vec.py:354] duplicate word '..................................................................................................' in embeddings/sgns.zhihu.bigram, ignoring all but first\n",
      "W1026 14:05:54.345816 12660 utils_any2vec.py:354] duplicate word '--------------------------------------------------------------------------------------------------' in embeddings/sgns.zhihu.bigram, ignoring all but first\n",
      "W1026 14:05:54.355791 12660 utils_any2vec.py:354] duplicate word '--------------------------------------------------------------------------------------------------' in embeddings/sgns.zhihu.bigram, ignoring all but first\n",
      "W1026 14:05:54.356788 12660 utils_any2vec.py:354] duplicate word '--------------------------------------------------------------------------------------------------' in embeddings/sgns.zhihu.bigram, ignoring all but first\n",
      "W1026 14:05:54.363768 12660 utils_any2vec.py:354] duplicate word '--------------------------------------------------------------------------------------------------' in embeddings/sgns.zhihu.bigram, ignoring all but first\n",
      "W1026 14:05:54.364766 12660 utils_any2vec.py:354] duplicate word '--------------------------------------------------------------------------------------------------' in embeddings/sgns.zhihu.bigram, ignoring all but first\n",
      "W1026 14:05:54.370749 12660 utils_any2vec.py:354] duplicate word '--------------------------------------------------------------------------------------------------' in embeddings/sgns.zhihu.bigram, ignoring all but first\n",
      "W1026 14:05:54.377734 12660 utils_any2vec.py:354] duplicate word '--------------------------------------------------------------------------------------------------' in embeddings/sgns.zhihu.bigram, ignoring all but first\n",
      "W1026 14:05:54.379728 12660 utils_any2vec.py:354] duplicate word '..................................................................................................' in embeddings/sgns.zhihu.bigram, ignoring all but first\n",
      "W1026 14:05:54.383715 12660 utils_any2vec.py:354] duplicate word '..................................................................................................' in embeddings/sgns.zhihu.bigram, ignoring all but first\n",
      "W1026 14:05:54.387705 12660 utils_any2vec.py:354] duplicate word '--------------------------------------------------------------------------------------------------' in embeddings/sgns.zhihu.bigram, ignoring all but first\n",
      "W1026 14:05:54.389698 12660 utils_any2vec.py:354] duplicate word '--------------------------------------------------------------------------------------------------' in embeddings/sgns.zhihu.bigram, ignoring all but first\n",
      "W1026 14:05:54.391694 12660 utils_any2vec.py:354] duplicate word '..................................................................................................' in embeddings/sgns.zhihu.bigram, ignoring all but first\n"
     ]
    },
    {
     "name": "stdout",
     "output_type": "stream",
     "text": [
      "加载完成\n"
     ]
    }
   ],
   "source": [
    "dataProcess = DataProcess(dataset, \"embeddings\\sgns.zhihu.bigram-char\")"
   ]
  },
  {
   "cell_type": "code",
   "execution_count": 5,
   "metadata": {},
   "outputs": [],
   "source": [
    "cn_model = dataProcess.get_cn_model()"
   ]
  },
  {
   "cell_type": "code",
   "execution_count": 7,
   "metadata": {
    "scrolled": true
   },
   "outputs": [
    {
     "ename": "AttributeError",
     "evalue": "'numpy.ndarray' object has no attribute 'index'",
     "output_type": "error",
     "traceback": [
      "\u001b[1;31m---------------------------------------------------------------------------\u001b[0m",
      "\u001b[1;31mAttributeError\u001b[0m                            Traceback (most recent call last)",
      "\u001b[1;32m<ipython-input-7-9134d86c6153>\u001b[0m in \u001b[0;36m<module>\u001b[1;34m\u001b[0m\n\u001b[1;32m----> 1\u001b[1;33m \u001b[0mcn_model\u001b[0m\u001b[1;33m[\u001b[0m\u001b[1;34m\"山东大学\"\u001b[0m\u001b[1;33m]\u001b[0m\u001b[1;33m.\u001b[0m\u001b[0mindex\u001b[0m\u001b[1;33m\u001b[0m\u001b[1;33m\u001b[0m\u001b[0m\n\u001b[0m",
      "\u001b[1;31mAttributeError\u001b[0m: 'numpy.ndarray' object has no attribute 'index'"
     ]
    }
   ],
   "source": [
    "cn_model[\"山东大学\"].index"
   ]
  },
  {
   "cell_type": "code",
   "execution_count": null,
   "metadata": {},
   "outputs": [],
   "source": []
  }
 ],
 "metadata": {
  "kernelspec": {
   "display_name": "Python 3",
   "language": "python",
   "name": "python3"
  },
  "language_info": {
   "codemirror_mode": {
    "name": "ipython",
    "version": 3
   },
   "file_extension": ".py",
   "mimetype": "text/x-python",
   "name": "python",
   "nbconvert_exporter": "python",
   "pygments_lexer": "ipython3",
   "version": "3.7.3"
  }
 },
 "nbformat": 4,
 "nbformat_minor": 2
}
